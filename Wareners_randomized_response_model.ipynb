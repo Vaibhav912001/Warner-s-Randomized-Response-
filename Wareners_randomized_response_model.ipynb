{
 "cells": [
  {
   "cell_type": "markdown",
   "id": "b8c8b6ad",
   "metadata": {},
   "source": [
    "# This project is a demonstration of Warner's Randomized Response Model.\n",
    "\n",
    "Problem Statement :- \n",
    "\n",
    "What percentage of the students cheated in the \n",
    "last semester examinations?\n",
    "\n",
    "Procedure :- \n",
    "\n",
    "We do a survey that first instructs students to toss a coin twice. If the student gets 'Tails' on the first toss, then the student has to answer the question number one, otherwise the student answers question number two.\n",
    "\n",
    "Que1. Did you cheat in your last semester examinations? \n",
    "\n",
    "Que2. Did you get 'Tails' in the second toss?\n",
    "\n",
    "As it is a possibility that students might not answer it comfortably so to address this questions mentioned above are useful. We will not know whether a 'yes' answer is due to the student's cheating or due to the student's getting a 'tails' in the second toss. This should put the student at ease to answer truthfully.\n",
    "\n",
    "In the code, the function exactly performs the similar task as mentioned above. It is as random as a realistic survey of students.\n",
    "\n",
    "Key point :-\n",
    "\n",
    "While we don't know what an individual 'yes' means, we can estimate the \n",
    "propotion of cheaters using all the probabilities collectively."
   ]
  },
  {
   "cell_type": "code",
   "execution_count": 59,
   "id": "a24d0d34",
   "metadata": {},
   "outputs": [],
   "source": [
    "import random \n",
    "import pandas as pd"
   ]
  },
  {
   "cell_type": "code",
   "execution_count": 60,
   "id": "036e35d7",
   "metadata": {},
   "outputs": [],
   "source": [
    "import random\n",
    "coin_ls = [\"head\", \"tail\"]\n",
    "response_ls = [\"yes\", \"no\"]\n",
    "\n",
    "def survey_responses(num):\n",
    "    students_responses = []\n",
    "    for i in range(num):\n",
    "        toss_1 = random.choice(coin_ls)\n",
    "        toss_2 = random.choice(coin_ls)\n",
    "        \n",
    "        if toss_1 == \"tail\":\n",
    "            # Did you cheat in the last semester examinations? -- Only answered when the coin shows tail in first toss irrespective of the second toss \n",
    "            response = random.choice(response_ls) #answer to the question can be either a yes or no.\n",
    "            students_responses.append(response)\n",
    "            \n",
    "        else:\n",
    "            # if the first toss doesn't show a tails then the student will answer the second question\n",
    "            if toss_2 == \"tail\":\n",
    "                # Did you get a tail in the second toss? \n",
    "                students_responses.append(response_ls[0])\n",
    "                \n",
    "            else:\n",
    "                students_responses.append(response_ls[1])\n",
    "              \n",
    "            \n",
    "    return students_responses"
   ]
  },
  {
   "cell_type": "code",
   "execution_count": 61,
   "id": "aeeb53b4",
   "metadata": {},
   "outputs": [],
   "source": [
    "def probability_of_yes(ls):\n",
    "\n",
    "    yes_count = 0\n",
    "    no_count = 0\n",
    "    \n",
    "    for i in range(len(ls)):\n",
    "        if ls[i] == \"yes\":\n",
    "            yes_count += 1\n",
    "            \n",
    "        else:\n",
    "            no_count += 1\n",
    "    print(f\"Yes = {yes_count} and No = {no_count}\")\n",
    "    return ((yes_count)/(yes_count + no_count))*100"
   ]
  },
  {
   "cell_type": "markdown",
   "id": "ffab624d",
   "metadata": {},
   "source": [
    "# Calculating probablities of various fields\n",
    "\n",
    "Formulas used :- \n",
    "\n",
    "Derivation of the Formula of Probability of getting a 'yes' provided \n",
    "that question 1 was answered by the student. This is a case of conditional probability.\n",
    "\n",
    "P(Yes) = P(Yes and Que1) + P(Yes and Que2) -- (1)\n",
    "\n",
    "P(Yes|Que1) = [P(Yes and Que1)]/P(Que1) -- [Conditional Probability]\n",
    "\n",
    "==> P(Yes and Que1) = P(Yes|Que1)P(Que1) --(2)\n",
    "\n",
    "P(Yes|Que2) = [P(Yes and Que2)]/P(Que2) -- [Conditional Probability]\n",
    "\n",
    "==> P(Yes and Que2) = P(Yes|Que2)P(Que2) --(3)\n",
    "\n",
    "Using (2) and (3) in (1)\n",
    "\n",
    "P(Yes) = P(Yes|Que1)P(Que1) + P(Yes|Que2)P(Que2) -- (4)\n",
    "\n",
    "P(Yes|Que1) = [P(Yes) - P(Yes|Que2)P(Que2)]/P(Que1) -- (5)\n",
    "\n",
    "Equation (5) is needed for further calculations. \n",
    "\n",
    "P(Que1) = P(Que2) = 1/2 (Equal to the probability of getting a head/tail)\n",
    "\n",
    "P(Yes|Que2) = 1/2 (Answer to Question 2 can be either yes or no - depending on heads/tails)\n"
   ]
  },
  {
   "cell_type": "code",
   "execution_count": 62,
   "id": "aad84bc7",
   "metadata": {},
   "outputs": [
    {
     "name": "stdout",
     "output_type": "stream",
     "text": [
      "How many students would you like to survey -- 1000\n",
      "Yes = 481 and No = 519\n",
      "P(Yes) = 48.1 %\n",
      "Yes = 481 and No = 519\n",
      "P(Yes) = 48.1%\n",
      "The approximate proportion of the number of students who might have done cheating in the last semester exams = 46.20000000000001%\n"
     ]
    }
   ],
   "source": [
    "num_of_students = int(input(\"How many students would you like to survey -- \"))\n",
    "indices = [i + 1 for i in range(num_of_students)]\n",
    "\n",
    "student_responses = survey_responses(num_of_students)\n",
    "\n",
    "print(f\"P(Yes) = {probability_of_yes(student_responses)} %\")\n",
    "\n",
    "def Propotion_of_cheaters():\n",
    "    p_yes_que1 = probability_of_yes(student_responses)\n",
    "    print(f\"P(Yes) = {p_yes_que1}%\")\n",
    "    return ((p_yes_que1/100 - (1/2)*(1/2))/(1/2))*100\n",
    "\n",
    "print(f\"The approximate proportion of the number of students who might have done cheating in the last semester exams = {Propotion_of_cheaters()}%\")"
   ]
  },
  {
   "cell_type": "markdown",
   "id": "61035674",
   "metadata": {},
   "source": [
    "# The approximate proportion of the number of students who might have done cheating in the last semester exams = 46.20000000000001%"
   ]
  },
  {
   "cell_type": "code",
   "execution_count": 53,
   "id": "afcd661e",
   "metadata": {},
   "outputs": [
    {
     "data": {
      "text/html": [
       "<div>\n",
       "<style scoped>\n",
       "    .dataframe tbody tr th:only-of-type {\n",
       "        vertical-align: middle;\n",
       "    }\n",
       "\n",
       "    .dataframe tbody tr th {\n",
       "        vertical-align: top;\n",
       "    }\n",
       "\n",
       "    .dataframe thead th {\n",
       "        text-align: right;\n",
       "    }\n",
       "</style>\n",
       "<table border=\"1\" class=\"dataframe\">\n",
       "  <thead>\n",
       "    <tr style=\"text-align: right;\">\n",
       "      <th></th>\n",
       "      <th>Index</th>\n",
       "      <th>Student Responses</th>\n",
       "    </tr>\n",
       "  </thead>\n",
       "  <tbody>\n",
       "    <tr>\n",
       "      <th>0</th>\n",
       "      <td>1</td>\n",
       "      <td>no</td>\n",
       "    </tr>\n",
       "    <tr>\n",
       "      <th>1</th>\n",
       "      <td>2</td>\n",
       "      <td>yes</td>\n",
       "    </tr>\n",
       "    <tr>\n",
       "      <th>2</th>\n",
       "      <td>3</td>\n",
       "      <td>yes</td>\n",
       "    </tr>\n",
       "    <tr>\n",
       "      <th>3</th>\n",
       "      <td>4</td>\n",
       "      <td>yes</td>\n",
       "    </tr>\n",
       "    <tr>\n",
       "      <th>4</th>\n",
       "      <td>5</td>\n",
       "      <td>no</td>\n",
       "    </tr>\n",
       "    <tr>\n",
       "      <th>...</th>\n",
       "      <td>...</td>\n",
       "      <td>...</td>\n",
       "    </tr>\n",
       "    <tr>\n",
       "      <th>995</th>\n",
       "      <td>996</td>\n",
       "      <td>yes</td>\n",
       "    </tr>\n",
       "    <tr>\n",
       "      <th>996</th>\n",
       "      <td>997</td>\n",
       "      <td>no</td>\n",
       "    </tr>\n",
       "    <tr>\n",
       "      <th>997</th>\n",
       "      <td>998</td>\n",
       "      <td>yes</td>\n",
       "    </tr>\n",
       "    <tr>\n",
       "      <th>998</th>\n",
       "      <td>999</td>\n",
       "      <td>yes</td>\n",
       "    </tr>\n",
       "    <tr>\n",
       "      <th>999</th>\n",
       "      <td>1000</td>\n",
       "      <td>yes</td>\n",
       "    </tr>\n",
       "  </tbody>\n",
       "</table>\n",
       "<p>1000 rows × 2 columns</p>\n",
       "</div>"
      ],
      "text/plain": [
       "     Index Student Responses\n",
       "0        1                no\n",
       "1        2               yes\n",
       "2        3               yes\n",
       "3        4               yes\n",
       "4        5                no\n",
       "..     ...               ...\n",
       "995    996               yes\n",
       "996    997                no\n",
       "997    998               yes\n",
       "998    999               yes\n",
       "999   1000               yes\n",
       "\n",
       "[1000 rows x 2 columns]"
      ]
     },
     "execution_count": 53,
     "metadata": {},
     "output_type": "execute_result"
    }
   ],
   "source": [
    "dataset = {'Index' : indices, \"Student Responses\" : student_responses}\n",
    "df = pd.DataFrame(data = dataset)\n",
    "df"
   ]
  },
  {
   "cell_type": "code",
   "execution_count": 54,
   "id": "2db009f7",
   "metadata": {},
   "outputs": [
    {
     "data": {
      "text/plain": [
       "<AxesSubplot:ylabel='Student Responses'>"
      ]
     },
     "execution_count": 54,
     "metadata": {},
     "output_type": "execute_result"
    },
    {
     "data": {
      "image/png": "[encoded data removed]",
      "text/plain": [
       "<Figure size 500x500 with 1 Axes>"
      ]
     },
     "metadata": {},
     "output_type": "display_data"
    }
   ],
   "source": [
    "df[\"Student Responses\"].value_counts().plot.pie(figsize = (5,5))"
   ]
  },
  {
   "cell_type": "code",
   "execution_count": null,
   "id": "a23f6d5a",
   "metadata": {},
   "outputs": [],
   "source": []
  },
  {
   "cell_type": "code",
   "execution_count": null,
   "id": "fa665dad",
   "metadata": {},
   "outputs": [],
   "source": []
  }
 ],
 "metadata": {
  "kernelspec": {
   "display_name": "Python 3 (ipykernel)",
   "language": "python",
   "name": "python3"
  },
  "language_info": {
   "codemirror_mode": {
    "name": "ipython",
    "version": 3
   },
   "file_extension": ".py",
   "mimetype": "text/x-python",
   "name": "python",
   "nbconvert_exporter": "python",
   "pygments_lexer": "ipython3",
   "version": "3.9.13"
  }
 },
 "nbformat": 4,
 "nbformat_minor": 5
}
